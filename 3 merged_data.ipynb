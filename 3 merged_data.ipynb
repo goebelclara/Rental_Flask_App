{
 "cells": [
  {
   "cell_type": "code",
   "execution_count": 1,
   "id": "2e9128fa",
   "metadata": {},
   "outputs": [],
   "source": [
    "#Importing libraries\n",
    "import pandas as pd\n",
    "import numpy as np"
   ]
  },
  {
   "cell_type": "code",
   "execution_count": 6,
   "id": "d58fb971",
   "metadata": {},
   "outputs": [],
   "source": [
    "#Reading in CSVs\n",
    "rightmove = pd.read_csv(\"output_data/rentals_rightmove.csv\", index_col = 0)\n",
    "zoopla = pd.read_csv(\"output_data/rentals_zoopla.csv\", index_col = 0)\n",
    "pcd = pd.read_csv(\"output_data/pcd_info.csv\", index_col = 0)"
   ]
  },
  {
   "cell_type": "code",
   "execution_count": 7,
   "id": "46e42ee7",
   "metadata": {},
   "outputs": [],
   "source": [
    "#Saving source of data\n",
    "rightmove[\"source\"] = \"rightmove\"\n",
    "zoopla[\"source\"] = \"zoopla\""
   ]
  },
  {
   "cell_type": "code",
   "execution_count": 8,
   "id": "42e08712",
   "metadata": {},
   "outputs": [],
   "source": [
    "#Merging listings data\n",
    "rentals = pd.concat([rightmove, zoopla], axis = 0, ignore_index = True)"
   ]
  },
  {
   "cell_type": "code",
   "execution_count": 9,
   "id": "baa77f6e",
   "metadata": {},
   "outputs": [],
   "source": [
    "#Mapping listings data to postcode information\n",
    "df = pd.merge_ordered(rentals, pcd, how = \"left\", left_on = \"postcode\", right_on = \"pcd_adjusted\")"
   ]
  },
  {
   "cell_type": "code",
   "execution_count": 10,
   "id": "0c5661f3",
   "metadata": {},
   "outputs": [],
   "source": [
    "#Dropping listings where postcode cannot be mapped\n",
    "df.dropna(inplace = True)"
   ]
  },
  {
   "cell_type": "code",
   "execution_count": 11,
   "id": "c02dc92f",
   "metadata": {},
   "outputs": [],
   "source": [
    "#Cleaning data\n",
    "df[\"type\"] = df[\"type\"].apply(lambda x: x.lower())\n",
    "type_dict = {'end of terrace': 'end terrace house', \n",
    "             'terraced': 'terraced house',\n",
    "             'semi-detached': 'semi-detached house', \n",
    "             'mews': 'mews house', \n",
    "             'detached': 'detached house', \n",
    "             'ground flat': 'flat', \n",
    "             'equestrian property': 'property', \n",
    "             'town house': 'mews house'}\n",
    "df[\"type\"] = df[\"type\"].replace(type_dict)\n",
    "\n",
    "df[\"postcode\"] = df[\"postcode\"].apply(lambda x: x.strip())"
   ]
  },
  {
   "cell_type": "code",
   "execution_count": 14,
   "id": "dd8fad0d",
   "metadata": {},
   "outputs": [],
   "source": [
    "#Dropping one postcode column\n",
    "df.drop(\"pcd_adjusted\", axis = 1, inplace = True)\n",
    "df = df.reset_index(drop = True)"
   ]
  },
  {
   "cell_type": "code",
   "execution_count": 15,
   "id": "2496186e",
   "metadata": {},
   "outputs": [],
   "source": [
    "#Dropping economic activity, given more granular split in economically inactive, employee, self-employed, unemployed, student\n",
    "df.drop(\"economic_active\", axis = 1, inplace = True)\n",
    "df = df.reset_index(drop = True)"
   ]
  },
  {
   "cell_type": "code",
   "execution_count": 17,
   "id": "1b5d1c6f",
   "metadata": {},
   "outputs": [],
   "source": [
    "#Saving to CSV \n",
    "df.to_csv(\"output_data/data_vf.csv\")"
   ]
  }
 ],
 "metadata": {
  "kernelspec": {
   "display_name": "Python 3",
   "language": "python",
   "name": "python3"
  },
  "language_info": {
   "codemirror_mode": {
    "name": "ipython",
    "version": 3
   },
   "file_extension": ".py",
   "mimetype": "text/x-python",
   "name": "python",
   "nbconvert_exporter": "python",
   "pygments_lexer": "ipython3",
   "version": "3.8.2"
  }
 },
 "nbformat": 4,
 "nbformat_minor": 5
}
