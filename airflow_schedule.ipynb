{
 "cells": [
  {
   "cell_type": "code",
   "execution_count": null,
   "metadata": {},
   "outputs": [],
   "source": [
    "#pip install apache-airflow"
   ]
  },
  {
   "cell_type": "code",
   "execution_count": null,
   "metadata": {},
   "outputs": [],
   "source": [
    "#Importing lirbaries\n",
    "from datetime import datetime\n",
    "\n",
    "from airflow import DAG\n",
    "from airflow.operators.python_operator import PythonOperator\n",
    "\n",
    "from scraping_merging_data import scrape_rightmove, scrape_zoopla, merge_data\n",
    "from writing_to_database import write_merged_data_to_db\n",
    "\n",
    "import requests\n",
    "from bs4 import BeautifulSoup\n",
    "\n",
    "import pandas as pd\n",
    "import numpy as np\n",
    "\n",
    "import time"
   ]
  },
  {
   "cell_type": "code",
   "execution_count": null,
   "metadata": {},
   "outputs": [],
   "source": [
    "#Defining DAGs and operators\n",
    "pages = 10\n",
    "\n",
    "#Scraping Rightmove\n",
    "dag_rightmove = DAG('scrape_rightmove', \n",
    "                    description = 'Scraping selected number of pages from Rightmove',\n",
    "                    schedule_interval = '@monthly',\n",
    "                    start_date = datetime(2022, 4, 26), \n",
    "                    catchup = False)\n",
    "\n",
    "rightmove_operator = PythonOperator(task_id = 'rightmove_task', \n",
    "                                    python_callable = scrape_rightmove,\n",
    "                                    op_kwargs = {\"pages\":pages}\n",
    "                                    dag = dag_rightmove)\n",
    "\n",
    "#Scraping Zoopla\n",
    "dag_zoopla = DAG('scrape_zooppla',\n",
    "                 description = 'Scraping selected number of pages from Zoopla',\n",
    "                 schedule_interval = '@monthly',\n",
    "                 start_date = datetime(2022, 4, 26), \n",
    "                 catchup = False)\n",
    "\n",
    "zoopla_operator = PythonOperator(task_id = 'zoopla_task', \n",
    "                                 python_callable = scrape_zoopla,\n",
    "                                 op_kwargs = {\"pages\":pages}\n",
    "                                 dag = dag_zoopla)\n",
    "\n",
    "#Merging data\n",
    "dag_merge = DAG('merge_data',\n",
    "                description = 'Merging data',\n",
    "                schedule_interval = '@monthly',\n",
    "                start_date = datetime(2022, 4, 26), \n",
    "                catchup = False)\n",
    "\n",
    "merge_operator = PythonOperator(task_id = 'merge_task',\n",
    "                                python_callable = merge_data,\n",
    "                                op_kwargs = {\"new_rightmove_data\":scrape_rightmove(pages),\n",
    "                                             \"new_zoopla_data\":scrape_zoopla(pages)}\n",
    "                                dag = dag_merge)\n",
    "\n",
    "#Storing data in database\n",
    "dag_store = DAG('store_data',\n",
    "                description = 'Store data in database',\n",
    "                schedule_interval = '@monthly',\n",
    "                start_date = datetime(2022, 4, 26), \n",
    "                catchup = False)\n",
    "\n",
    "store_operator = PythonOperator(task_id = 'store_task',\n",
    "                                python_callable = write_merged_data_to_db,\n",
    "                                op_kwargs = {\"df\":merge_data(scrape_rightmove(pages), \n",
    "                                                             scrape_zoopla(pages))}\n",
    "                                dag = dag_store)\n",
    "\n",
    "#Scheduling operators\n",
    "rightmove_operator >> zoopla_operator >> merge_operator >> dag_store"
   ]
  }
 ],
 "metadata": {
  "kernelspec": {
   "display_name": "Python [conda env:Python3] *",
   "language": "python",
   "name": "conda-env-Python3-py"
  },
  "language_info": {
   "codemirror_mode": {
    "name": "ipython",
    "version": 3
   },
   "file_extension": ".py",
   "mimetype": "text/x-python",
   "name": "python",
   "nbconvert_exporter": "python",
   "pygments_lexer": "ipython3",
   "version": "3.8.2"
  }
 },
 "nbformat": 4,
 "nbformat_minor": 2
}
