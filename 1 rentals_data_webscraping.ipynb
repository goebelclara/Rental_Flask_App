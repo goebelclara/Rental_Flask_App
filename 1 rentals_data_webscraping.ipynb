{
 "cells": [
  {
   "cell_type": "code",
   "execution_count": 1,
   "id": "f15c1f91",
   "metadata": {},
   "outputs": [],
   "source": [
    "#Importing libraries\n",
    "import requests\n",
    "from bs4 import BeautifulSoup\n",
    "\n",
    "import pandas as pd\n",
    "import numpy as np\n",
    "\n",
    "import time"
   ]
  },
  {
   "cell_type": "markdown",
   "id": "87d42f1c",
   "metadata": {},
   "source": [
    "## Rightmove"
   ]
  },
  {
   "cell_type": "code",
   "execution_count": 2,
   "id": "8d792dba",
   "metadata": {},
   "outputs": [],
   "source": [
    "#Generating URLS for search pages\n",
    "urls = []\n",
    "url_base = \"https://www.rightmove.co.uk/property-to-rent/find.html?locationIdentifier=REGION%5E87490&minBedrooms=1&index=\"\n",
    "url_end = \"&propertyTypes=&includeLetAgreed=false&mustHave=&dontShow=houseShare%2Cstudent%2Cretirement&furnishTypes=&keywords=\"\n",
    "\n",
    "for i in range(0,7200+1,24):\n",
    "    url = url_base + str(i) + url_end\n",
    "    urls.append(url)"
   ]
  },
  {
   "cell_type": "code",
   "execution_count": 4,
   "id": "aaa80d9b",
   "metadata": {},
   "outputs": [],
   "source": [
    "#Defining function to get link for each listing from a given search page\n",
    "def get_links(soup):\n",
    "    link_container = soup.find_all(\"div\", class_ = \"propertyCard-details\")\n",
    "    for link in link_container:\n",
    "        link_end = link.find(\"a\").get(\"href\")\n",
    "        link_base = \"https://www.rightmove.co.uk\"\n",
    "        link_list.append(link_base + link_end)"
   ]
  },
  {
   "cell_type": "code",
   "execution_count": 5,
   "id": "6d36ce4e",
   "metadata": {},
   "outputs": [],
   "source": [
    "#Looping through search page URLs to get listing links \n",
    "link_list = []\n",
    "\n",
    "for url in urls:\n",
    "    page = requests.get(url)\n",
    "    soup = BeautifulSoup(page.content, \"html.parser\")\n",
    "    \n",
    "    get_links(soup)"
   ]
  },
  {
   "cell_type": "code",
   "execution_count": 6,
   "id": "2b7b0daa",
   "metadata": {},
   "outputs": [],
   "source": [
    "#Defining function to get property details \n",
    "def get_prop_details(url_rental):\n",
    "    page_rental = requests.get(url_rental)\n",
    "    soup_rental = BeautifulSoup(page_rental.content, \"html.parser\")\n",
    "    \n",
    "    prop_specs_container = soup_rental.find_all(\"div\", class_ = \"tmJOVKTrHAB4bLpcMjzQ\")\n",
    "    prop_info_container = soup_rental.find_all(\"div\", class_ = \"_1fcftXUEbWfJOJzIUeIHKt\")\n",
    "    list_dict = {\"PROPERTY TYPE\": type_list, \"BEDROOMS\": bedrooms_list, \"BATHROOMS\": bathrooms_list, \"SIZE\": size_list}\n",
    "    for i in range(len(prop_specs_container)):\n",
    "        spec = prop_specs_container[i].text\n",
    "        append_list = list_dict[spec]\n",
    "        append_list.append(prop_info_container[i].text)\n",
    "    for key in list_dict.keys():\n",
    "        if key not in str(prop_specs_container):\n",
    "            append_list = list_dict[key]\n",
    "            append_list.append(np.nan)\n",
    "    \n",
    "    try:\n",
    "        nearest_station_dist = soup_rental.find(\"span\", class_ = \"_1ZY603T1ryTT3dMgGkM7Lg\").text\n",
    "        nearest_station_dist_list.append(nearest_station_dist)\n",
    "    except:\n",
    "        nearest_station_dist_list.append(np.nan)\n",
    "        \n",
    "    try:\n",
    "        price = soup_rental.find(\"div\", class_ = \"_1gfnqJ3Vtd1z40MlC0MzXu\").text.split(\"£\")[1]\n",
    "        price_list.append(price)\n",
    "    except:\n",
    "        price_list.append(np.nan)\n",
    "    \n",
    "    try:\n",
    "        address = soup_rental.find(\"h1\", itemprop = \"streetAddress\").text\n",
    "        address_list.append(address)\n",
    "    except:\n",
    "        address_list.append(np.nan)"
   ]
  },
  {
   "cell_type": "code",
   "execution_count": 7,
   "id": "591dab30",
   "metadata": {},
   "outputs": [],
   "source": [
    "#Looping through listing links to get property details \n",
    "type_list = []\n",
    "bedrooms_list = []\n",
    "bathrooms_list = []\n",
    "size_list = []\n",
    "nearest_station_dist_list = []\n",
    "price_list = []\n",
    "address_list = []\n",
    "\n",
    "for link in link_list:\n",
    "    get_prop_details(link)"
   ]
  },
  {
   "cell_type": "code",
   "execution_count": 8,
   "id": "4acb0854",
   "metadata": {},
   "outputs": [],
   "source": [
    "#Storing data in dataframe \n",
    "df = pd.DataFrame(data = {\n",
    "    \"type\": type_list,\n",
    "    \"bedrooms\": bedrooms_list,\n",
    "    \"bathrooms\": bathrooms_list,\n",
    "    \"size\": size_list,\n",
    "    \"nearest_station\": nearest_station_dist_list,\n",
    "    \"address\": address_list,\n",
    "    \"price\": price_list})"
   ]
  },
  {
   "cell_type": "code",
   "execution_count": 10,
   "id": "cf2386ec",
   "metadata": {},
   "outputs": [],
   "source": [
    "#Defining function to check whether address contains numeric postcode\n",
    "def has_numbers(string):\n",
    "    return any(char.isdigit() for char in string)"
   ]
  },
  {
   "cell_type": "code",
   "execution_count": 9,
   "id": "d1873b1b",
   "metadata": {},
   "outputs": [
    {
     "name": "stderr",
     "output_type": "stream",
     "text": [
      "<ipython-input-9-f6d8d2ef6db8>:3: FutureWarning: The default value of regex will change from True to False in a future version.\n",
      "  df[\"size\"] = df[\"size\"].str.replace(\" sq. ft.\",\"\").str.replace(\",\",\"\").str.strip()\n"
     ]
    }
   ],
   "source": [
    "#Cleaning data\n",
    "df[\"bedrooms\"] = df[\"bedrooms\"].str.replace(\"×\",\"\").str.strip()\n",
    "\n",
    "df[\"bathrooms\"] = df[\"bathrooms\"].str.replace(\"×\",\"\").str.strip()\n",
    "\n",
    "df[\"size\"] = df[\"size\"].str.replace(\" sq. ft.\",\"\").str.replace(\",\",\"\").str.strip()\n",
    "df[\"size\"] = df[\"size\"].apply(lambda x: x.split(\"-\")[0] if \"-\" in str(x) else x).str.strip()\n",
    "\n",
    "df[\"nearest_station\"] = df[\"nearest_station\"].str.replace(\" miles\",\"\").str.strip()\n",
    "\n",
    "df[\"price\"] = df[\"price\"].str.replace(\" pcm\",\"\").str.replace(\",\",\"\").str.strip()\n",
    "\n",
    "df[\"postcode\"] = df[\"address\"].apply(lambda x: x.split(\",\")[-1])\n",
    "df[\"postcode\"] = df[\"postcode\"].apply(lambda x: x.split(\" \")[-1] if len(x) > 8 else x)\n",
    "df[\"postcode\"] = df[\"postcode\"].apply(lambda x: x if has_numbers(x) else np.nan)\n",
    "df[\"postcode\"] = df[\"postcode\"].str.strip()"
   ]
  },
  {
   "cell_type": "code",
   "execution_count": 12,
   "id": "8436cf3d",
   "metadata": {},
   "outputs": [],
   "source": [
    "#Changing datatypes\n",
    "df[\"bedrooms\"] = df[\"bedrooms\"].astype(\"Int64\")\n",
    "df[\"bathrooms\"] = df[\"bathrooms\"].astype(\"Int64\")\n",
    "df[\"size\"] = df[\"size\"].astype(\"Int64\")\n",
    "df[\"nearest_station\"] = df[\"nearest_station\"].astype(\"float\")\n",
    "df[\"price\"] = df[\"price\"].astype(\"Int64\")"
   ]
  },
  {
   "cell_type": "code",
   "execution_count": 13,
   "id": "788c7f04",
   "metadata": {},
   "outputs": [],
   "source": [
    "#Imputing size of flat\n",
    "df[\"size_imputed\"] = np.where(df[\"size\"].isna(), df[\"size\"].mean(), df[\"size\"])"
   ]
  },
  {
   "cell_type": "code",
   "execution_count": 21,
   "id": "0df24998",
   "metadata": {},
   "outputs": [],
   "source": [
    "#Dropping missing values\n",
    "df_final_rightmove = df.drop(\"size\", axis = 1).dropna().reset_index(drop = True)"
   ]
  },
  {
   "cell_type": "code",
   "execution_count": 46,
   "id": "48673d7e",
   "metadata": {},
   "outputs": [],
   "source": [
    "#Saving final dataframe to CSV\n",
    "df_final_rightmove.to_csv(\"output_data/rentals_rightmove.csv\")"
   ]
  },
  {
   "cell_type": "markdown",
   "id": "519cb070",
   "metadata": {},
   "source": [
    "## Zoopla"
   ]
  },
  {
   "cell_type": "code",
   "execution_count": 23,
   "id": "ba4fb003",
   "metadata": {},
   "outputs": [],
   "source": [
    "#Generating URLS for search pages\n",
    "urls_zoopla = []\n",
    "url_base_zoopla = \"https://www.zoopla.co.uk/to-rent/property/london/?beds_min=1&furnished_state=unfurnished&include_shared_accommodation=false&price_frequency=per_month&q=London&results_sort=newest_listings&search_source=to-rent&pn=\"\n",
    "\n",
    "for i in range(0,42+1,1):\n",
    "    url_zoopla = url_base_zoopla + str(i)\n",
    "    urls_zoopla.append(url_zoopla)"
   ]
  },
  {
   "cell_type": "code",
   "execution_count": 43,
   "id": "158d7956",
   "metadata": {},
   "outputs": [],
   "source": [
    "#Defining function to get link for each listing from a given search page\n",
    "def get_links_zoopla(soup):\n",
    "    link_container = soup.find_all(\"a\", class_ = \"e1to43qx9 css-15xcaqt-StyledLink-Link-ImageLink e33dvwd0\")\n",
    "    for link in link_container:\n",
    "        link_end = link.get(\"href\")\n",
    "        link_base = \"https://www.zoopla.co.uk\"\n",
    "        link_list_zoopla.append(link_base + link_end)"
   ]
  },
  {
   "cell_type": "code",
   "execution_count": 44,
   "id": "72cf9d6f",
   "metadata": {},
   "outputs": [],
   "source": [
    "#Looping through search page URLs to get listing links \n",
    "link_list_zoopla = []\n",
    "\n",
    "for url in urls_zoopla:\n",
    "    page_zoopla = requests.get(url)\n",
    "    soup_zoopla = BeautifulSoup(page_zoopla.content, \"html.parser\")\n",
    "    get_links_zoopla(soup_zoopla)"
   ]
  },
  {
   "cell_type": "code",
   "execution_count": 72,
   "id": "21834104",
   "metadata": {},
   "outputs": [],
   "source": [
    "#Defining function to get property type from property title\n",
    "def find_type_zoopla(string, start, end):\n",
    "    return (string.split(start))[1].split(end)[0].strip()"
   ]
  },
  {
   "cell_type": "code",
   "execution_count": 73,
   "id": "65e7afc3",
   "metadata": {},
   "outputs": [],
   "source": [
    "#Defining function to get property details \n",
    "def get_prop_details_zoopla(url_rental):\n",
    "    page_rental = requests.get(url_rental)\n",
    "    soup_rental = BeautifulSoup(page_rental.content, \"html.parser\")\n",
    "    \n",
    "    prop_info_container = soup_rental.find_all(\"span\", class_ = \"css-8rvu8h-AttributeLabel e19p681f0\")\n",
    "    list_dict = {\"beds-label\": bedrooms_list_zoopla, \"baths-label\": bathrooms_list_zoopla, \"floorarea-label\": size_list_zoopla}\n",
    "    for i in range(len(prop_info_container)):\n",
    "        spec = prop_info_container[i].get(\"data-testid\")\n",
    "        if spec == \"receptions-label\":\n",
    "            continue\n",
    "        append_list_zoopla = list_dict[spec]\n",
    "        append_list_zoopla.append(prop_info_container[i].text)\n",
    "    for key in list_dict.keys():\n",
    "        if key not in str(prop_info_container):\n",
    "            append_list_zoopla = list_dict[key]\n",
    "            append_list_zoopla.append(np.nan)\n",
    "            \n",
    "    try:\n",
    "        title = soup_rental.find(\"span\", class_ = \"css-jv46e5-DisplayTitleLabel e19p681f5\").text\n",
    "        type_list_zoopla.append(find_type_zoopla(title, \"bed\", \"to\"))\n",
    "    except:\n",
    "        type_list_zoopla.append(np.nan)\n",
    "    \n",
    "    try:\n",
    "        nearest_station_dist = soup_rental.find(\"span\", class_ = \"css-ofdupv-AmenityDistance e1opb2ur2\").text\n",
    "        nearest_station_dist_list_zoopla.append(nearest_station_dist)\n",
    "    except:\n",
    "        nearest_station_dist_list_zoopla.append(np.nan)\n",
    "        \n",
    "    try:\n",
    "        price = soup_rental.find(\"span\", class_ = \"css-dob1au-PricingLabel e19p681f13\").text\n",
    "        price_list_zoopla.append(price)\n",
    "    except:\n",
    "        price_list_zoopla.append(np.nan)\n",
    "    \n",
    "    try:\n",
    "        address = soup_rental.find(\"span\", class_ = \"css-192hawr-DisplayAddressLabel e19p681f4\").text\n",
    "        address_list_zoopla.append(address)\n",
    "    except:\n",
    "        address_list_zoopla.append(np.nan)"
   ]
  },
  {
   "cell_type": "code",
   "execution_count": 235,
   "id": "a67402f8",
   "metadata": {},
   "outputs": [],
   "source": [
    "#Looping through listing links to get property details \n",
    "type_list_zoopla = []\n",
    "bedrooms_list_zoopla = []\n",
    "bathrooms_list_zoopla = []\n",
    "size_list_zoopla = []\n",
    "nearest_station_dist_list_zoopla = []\n",
    "price_list_zoopla = []\n",
    "address_list_zoopla = []\n",
    "\n",
    "for link in link_list_zoopla:\n",
    "    get_prop_details_zoopla(link)\n",
    "    time.sleep(1)"
   ]
  },
  {
   "cell_type": "code",
   "execution_count": 236,
   "id": "ed7ea320",
   "metadata": {},
   "outputs": [],
   "source": [
    "#Storing data in dataframe \n",
    "df_zoopla = pd.DataFrame(data = {\n",
    "    \"type\": type_list_zoopla,\n",
    "    \"bedrooms\": bedrooms_list_zoopla,\n",
    "    \"bathrooms\": bathrooms_list_zoopla,\n",
    "    \"size\": size_list_zoopla,\n",
    "    \"nearest_station\": nearest_station_dist_list_zoopla,\n",
    "    \"address\": address_list_zoopla,\n",
    "    \"price\": price_list_zoopla})"
   ]
  },
  {
   "cell_type": "code",
   "execution_count": 237,
   "id": "81ced817",
   "metadata": {},
   "outputs": [
    {
     "name": "stderr",
     "output_type": "stream",
     "text": [
      "<ipython-input-237-b2f14c787d14>:6: FutureWarning: The default value of regex will change from True to False in a future version.\n",
      "  df_zoopla[\"size\"] = df_zoopla[\"size\"].str.replace(\" sq. ft\",\"\").str.replace(\",\",\"\").str.strip()\n"
     ]
    }
   ],
   "source": [
    "#Cleaning data\n",
    "df_zoopla[\"bedrooms\"] = df_zoopla[\"bedrooms\"].str.replace(\"beds\",\"\").str.replace(\"bed\",\"\").str.strip()\n",
    "\n",
    "df_zoopla[\"bathrooms\"] = df_zoopla[\"bathrooms\"].str.replace(\"baths\",\"\").str.replace(\"bath\",\"\").str.strip()\n",
    "\n",
    "df_zoopla[\"size\"] = df_zoopla[\"size\"].str.replace(\" sq. ft\",\"\").str.replace(\",\",\"\").str.strip()\n",
    "\n",
    "df_zoopla[\"nearest_station\"] = df_zoopla[\"nearest_station\"].str.replace(\" miles\",\"\").str.strip()\n",
    "\n",
    "df_zoopla[\"price\"] = df_zoopla[\"price\"].str.replace(\" pcm\",\"\").str.replace(\",\",\"\").str.replace(\"£\",\"\").str.strip()\n",
    "\n",
    "df_zoopla[\"postcode\"] = df_zoopla[\"address\"].apply(lambda x: str(x).split(\",\")[-1])\n",
    "df_zoopla[\"postcode\"] = df_zoopla[\"postcode\"].apply(lambda x: x.split(\" \")[-1] if len(x) > 8 else x)\n",
    "df_zoopla[\"postcode\"] = df_zoopla[\"postcode\"].apply(lambda x: x if has_numbers(x) else np.nan)\n",
    "df_zoopla[\"postcode\"] = df_zoopla[\"postcode\"].str.strip()"
   ]
  },
  {
   "cell_type": "code",
   "execution_count": 238,
   "id": "1cbff89a",
   "metadata": {},
   "outputs": [],
   "source": [
    "#Changing datatypes\n",
    "df_zoopla[\"bedrooms\"] = df_zoopla[\"bedrooms\"].astype(\"Int64\")\n",
    "df_zoopla[\"bathrooms\"] = df_zoopla[\"bathrooms\"].astype(\"Int64\")\n",
    "df_zoopla[\"size\"] = df_zoopla[\"size\"].astype(\"Int64\")\n",
    "df_zoopla[\"nearest_station\"] = df_zoopla[\"nearest_station\"].astype(\"float\")\n",
    "df_zoopla[\"price\"] = df_zoopla[\"price\"].astype(\"Int64\")"
   ]
  },
  {
   "cell_type": "code",
   "execution_count": 239,
   "id": "97eb434c",
   "metadata": {},
   "outputs": [],
   "source": [
    "#Imputing size of flat\n",
    "df_zoopla[\"size_imputed\"] = np.where(df_zoopla[\"size\"].isna(), df_zoopla[\"size\"].mean(), df_zoopla[\"size\"])"
   ]
  },
  {
   "cell_type": "code",
   "execution_count": 240,
   "id": "841689c7",
   "metadata": {},
   "outputs": [],
   "source": [
    "#Dropping missing values\n",
    "df_final_zoopla = df_zoopla.drop(\"size\", axis = 1, inplace = True)"
   ]
  },
  {
   "cell_type": "code",
   "execution_count": 241,
   "id": "80c6afae",
   "metadata": {},
   "outputs": [],
   "source": [
    "#Saving final dataframe to CSV\n",
    "df_final_zoopla.to_csv(\"output_data/rentals_zoopla.csv\")"
   ]
  }
 ],
 "metadata": {
  "kernelspec": {
   "display_name": "Python 3",
   "language": "python",
   "name": "python3"
  },
  "language_info": {
   "codemirror_mode": {
    "name": "ipython",
    "version": 3
   },
   "file_extension": ".py",
   "mimetype": "text/x-python",
   "name": "python",
   "nbconvert_exporter": "python",
   "pygments_lexer": "ipython3",
   "version": "3.8.2"
  }
 },
 "nbformat": 4,
 "nbformat_minor": 5
}
