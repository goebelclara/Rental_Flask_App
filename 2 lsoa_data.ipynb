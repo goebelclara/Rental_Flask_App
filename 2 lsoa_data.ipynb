{
 "cells": [
  {
   "cell_type": "code",
   "execution_count": 1,
   "id": "b791ca2d",
   "metadata": {},
   "outputs": [],
   "source": [
    "#Importing libraries\n",
    "import pandas as pd"
   ]
  },
  {
   "cell_type": "code",
   "execution_count": 3,
   "id": "d0951526",
   "metadata": {},
   "outputs": [
    {
     "name": "stderr",
     "output_type": "stream",
     "text": [
      "/opt/anaconda/envs/Python3/lib/python3.8/site-packages/IPython/core/interactiveshell.py:3165: DtypeWarning: Columns (45) have mixed types.Specify dtype option on import or set low_memory=False.\n",
      "  has_raised = await self.run_ast_nodes(code_ast.body, cell_name,\n"
     ]
    }
   ],
   "source": [
    "#Reading in CSV with mapping from LSOAs to postcodes\n",
    "dfmap = pd.read_csv('input_data/pcd_lsoa_map.csv', dtype={'pcd': str, 'lsoa11' : str, 'lat' : float, 'long' : float})"
   ]
  },
  {
   "cell_type": "code",
   "execution_count": 4,
   "id": "aa666c55",
   "metadata": {},
   "outputs": [],
   "source": [
    "#Selecting relevant columns\n",
    "dfmap = dfmap[[\"pcd\", \"lsoa11\", \"lat\", \"long\"]]"
   ]
  },
  {
   "cell_type": "code",
   "execution_count": 5,
   "id": "c0dd7777",
   "metadata": {},
   "outputs": [],
   "source": [
    "#Extracting short postcode\n",
    "dfmap[\"pcd_adjusted\"] = dfmap[\"pcd\"].str[0:4]\n",
    "dfmap[\"pcd_adjusted\"] = dfmap[\"pcd_adjusted\"].str.strip()"
   ]
  },
  {
   "cell_type": "code",
   "execution_count": 8,
   "id": "37d76cb9",
   "metadata": {},
   "outputs": [],
   "source": [
    "#Reading in CSVs with LSOA information\n",
    "dflsoa1 = pd.read_csv('input_data/lsoa_data_1.csv', header = 0)\n",
    "dflsoa2 = pd.read_csv('input_data/lsoa_data_2.csv', header = 0)"
   ]
  },
  {
   "cell_type": "code",
   "execution_count": 9,
   "id": "72580d2c",
   "metadata": {},
   "outputs": [],
   "source": [
    "#Merging CSVs with LSOA information\n",
    "dflsoa = pd.merge_ordered(dflsoa1, dflsoa2, how = \"outer\", on = \"lsoa11\")"
   ]
  },
  {
   "cell_type": "code",
   "execution_count": 10,
   "id": "a8410e2a",
   "metadata": {},
   "outputs": [],
   "source": [
    "#Transforming ages into percentages of total population\n",
    "for key in dflsoa.columns:\n",
    "    if \"ages_\" in key:\n",
    "        dflsoa[key] = dflsoa[key] / dflsoa[\"all_ages\"]\n",
    "dflsoa = dflsoa.drop(labels = \"all_ages\", axis = 1).reset_index(drop=True)"
   ]
  },
  {
   "cell_type": "code",
   "execution_count": 11,
   "id": "d7fe9f56",
   "metadata": {},
   "outputs": [],
   "source": [
    "#Transforming household types, ownership types, resident types, and dwelling types into percentages\n",
    "for key in dflsoa.columns[7:22]:\n",
    "    dflsoa[key] = dflsoa[key] / 100"
   ]
  },
  {
   "cell_type": "code",
   "execution_count": 12,
   "id": "375f5aa5",
   "metadata": {},
   "outputs": [],
   "source": [
    "#Transforming economic activity into percentages\n",
    "total_economic = dflsoa['economic_active'] + dflsoa['economic_inactive']\n",
    "for key in dflsoa.columns[23:28]:\n",
    "    dflsoa[key] = dflsoa[key] / total_economic"
   ]
  },
  {
   "cell_type": "code",
   "execution_count": 13,
   "id": "10752716",
   "metadata": {},
   "outputs": [],
   "source": [
    "#Transforming educational background, and health into percentages\n",
    "for key in dflsoa.columns[28:38]:\n",
    "    dflsoa[key] = dflsoa[key] / 100"
   ]
  },
  {
   "cell_type": "code",
   "execution_count": 14,
   "id": "2cbeab50",
   "metadata": {},
   "outputs": [],
   "source": [
    "#Merging LSOA information with postcode mapping\n",
    "dflsoapcd = pd.merge_ordered(dfmap, dflsoa, how = \"outer\", on = \"lsoa11\")"
   ]
  },
  {
   "cell_type": "code",
   "execution_count": 16,
   "id": "a4123b4b",
   "metadata": {},
   "outputs": [],
   "source": [
    "#Aggregating information per postcode\n",
    "dflsoapcdagg = dflsoapcd.groupby(\"pcd_adjusted\").mean()\n",
    "dflsoapcdagg = dflsoapcdagg.reset_index()"
   ]
  },
  {
   "cell_type": "code",
   "execution_count": 17,
   "id": "c72bc4d0",
   "metadata": {},
   "outputs": [],
   "source": [
    "#Saving to CSV\n",
    "dflsoapcdagg.to_csv(\"output_data/pcd_info.csv\")"
   ]
  }
 ],
 "metadata": {
  "kernelspec": {
   "display_name": "Python 3",
   "language": "python",
   "name": "python3"
  },
  "language_info": {
   "codemirror_mode": {
    "name": "ipython",
    "version": 3
   },
   "file_extension": ".py",
   "mimetype": "text/x-python",
   "name": "python",
   "nbconvert_exporter": "python",
   "pygments_lexer": "ipython3",
   "version": "3.8.2"
  }
 },
 "nbformat": 4,
 "nbformat_minor": 5
}
